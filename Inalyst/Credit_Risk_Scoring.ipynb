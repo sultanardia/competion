{
  "nbformat": 4,
  "nbformat_minor": 0,
  "metadata": {
    "colab": {
      "name": "Credit Risk Scoring.ipynb",
      "provenance": [],
      "collapsed_sections": [],
      "authorship_tag": "ABX9TyNZ4RcyXMLSJvLoTp3MlzcC",
      "include_colab_link": true
    },
    "kernelspec": {
      "name": "python3",
      "display_name": "Python 3"
    },
    "language_info": {
      "name": "python"
    }
  },
  "cells": [
    {
      "cell_type": "markdown",
      "metadata": {
        "id": "view-in-github",
        "colab_type": "text"
      },
      "source": [
        "<a href=\"https://colab.research.google.com/github/sultanardia/competion/blob/main/Credit_Risk_Scoring.ipynb\" target=\"_parent\"><img src=\"https://colab.research.google.com/assets/colab-badge.svg\" alt=\"Open In Colab\"/></a>"
      ]
    },
    {
      "cell_type": "markdown",
      "metadata": {
        "id": "9sKcYWKhiPxu"
      },
      "source": [
        "# Import pandas library"
      ]
    },
    {
      "cell_type": "code",
      "metadata": {
        "id": "UfuKzH__2B6R"
      },
      "source": [
        "import pandas as pd"
      ],
      "execution_count": 983,
      "outputs": []
    },
    {
      "cell_type": "markdown",
      "metadata": {
        "id": "K7XeEQjQiUyp"
      },
      "source": [
        "# Read CSV"
      ]
    },
    {
      "cell_type": "code",
      "metadata": {
        "colab": {
          "base_uri": "https://localhost:8080/",
          "height": 204
        },
        "id": "iWxpz0h42wG5",
        "outputId": "e35e4404-14b9-448d-f82d-76e22f00ce57"
      },
      "source": [
        "df = pd.read_csv('/content/train.csv')\n",
        "df.head()"
      ],
      "execution_count": 984,
      "outputs": [
        {
          "output_type": "execute_result",
          "data": {
            "text/html": [
              "<div>\n",
              "<style scoped>\n",
              "    .dataframe tbody tr th:only-of-type {\n",
              "        vertical-align: middle;\n",
              "    }\n",
              "\n",
              "    .dataframe tbody tr th {\n",
              "        vertical-align: top;\n",
              "    }\n",
              "\n",
              "    .dataframe thead th {\n",
              "        text-align: right;\n",
              "    }\n",
              "</style>\n",
              "<table border=\"1\" class=\"dataframe\">\n",
              "  <thead>\n",
              "    <tr style=\"text-align: right;\">\n",
              "      <th></th>\n",
              "      <th>customer_id</th>\n",
              "      <th>customer_bod</th>\n",
              "      <th>gender</th>\n",
              "      <th>phone_flag</th>\n",
              "      <th>student</th>\n",
              "      <th>employment</th>\n",
              "      <th>credit_card</th>\n",
              "      <th>balance</th>\n",
              "      <th>income</th>\n",
              "      <th>tenure</th>\n",
              "      <th>default</th>\n",
              "    </tr>\n",
              "  </thead>\n",
              "  <tbody>\n",
              "    <tr>\n",
              "      <th>0</th>\n",
              "      <td>8300</td>\n",
              "      <td>1993-08-17</td>\n",
              "      <td>Female</td>\n",
              "      <td>1.0</td>\n",
              "      <td>No</td>\n",
              "      <td>Self Employed</td>\n",
              "      <td>1.0</td>\n",
              "      <td>87104.12</td>\n",
              "      <td>5015120.75</td>\n",
              "      <td>4yrs 4mon</td>\n",
              "      <td>0</td>\n",
              "    </tr>\n",
              "    <tr>\n",
              "      <th>1</th>\n",
              "      <td>672</td>\n",
              "      <td>2007-12-17</td>\n",
              "      <td>Female</td>\n",
              "      <td>1.0</td>\n",
              "      <td>Yes</td>\n",
              "      <td>NaN</td>\n",
              "      <td>0.0</td>\n",
              "      <td>89236.34</td>\n",
              "      <td>2266076.58</td>\n",
              "      <td>4yrs 1mon</td>\n",
              "      <td>0</td>\n",
              "    </tr>\n",
              "    <tr>\n",
              "      <th>2</th>\n",
              "      <td>5670</td>\n",
              "      <td>2000-02-05</td>\n",
              "      <td>Female</td>\n",
              "      <td>1.0</td>\n",
              "      <td>Yes</td>\n",
              "      <td>NaN</td>\n",
              "      <td>0.0</td>\n",
              "      <td>171553.12</td>\n",
              "      <td>1779347.34</td>\n",
              "      <td>0yrs 9mon</td>\n",
              "      <td>0</td>\n",
              "    </tr>\n",
              "    <tr>\n",
              "      <th>3</th>\n",
              "      <td>2975</td>\n",
              "      <td>1999-11-16</td>\n",
              "      <td>Female</td>\n",
              "      <td>1.0</td>\n",
              "      <td>Yes</td>\n",
              "      <td>NaN</td>\n",
              "      <td>0.0</td>\n",
              "      <td>85979.04</td>\n",
              "      <td>2014246.24</td>\n",
              "      <td>1yrs 8mon</td>\n",
              "      <td>0</td>\n",
              "    </tr>\n",
              "    <tr>\n",
              "      <th>4</th>\n",
              "      <td>3883</td>\n",
              "      <td>1977-08-18</td>\n",
              "      <td>Male</td>\n",
              "      <td>1.0</td>\n",
              "      <td>No</td>\n",
              "      <td>Salaried</td>\n",
              "      <td>0.0</td>\n",
              "      <td>48874.77</td>\n",
              "      <td>5445148.31</td>\n",
              "      <td>0yrs 10mon</td>\n",
              "      <td>0</td>\n",
              "    </tr>\n",
              "  </tbody>\n",
              "</table>\n",
              "</div>"
            ],
            "text/plain": [
              "   customer_id customer_bod  gender  ...      income      tenure default\n",
              "0         8300   1993-08-17  Female  ...  5015120.75   4yrs 4mon       0\n",
              "1          672   2007-12-17  Female  ...  2266076.58   4yrs 1mon       0\n",
              "2         5670   2000-02-05  Female  ...  1779347.34   0yrs 9mon       0\n",
              "3         2975   1999-11-16  Female  ...  2014246.24   1yrs 8mon       0\n",
              "4         3883   1977-08-18    Male  ...  5445148.31  0yrs 10mon       0\n",
              "\n",
              "[5 rows x 11 columns]"
            ]
          },
          "metadata": {},
          "execution_count": 984
        }
      ]
    },
    {
      "cell_type": "markdown",
      "metadata": {
        "id": "v9Fgq_TziZfP"
      },
      "source": [
        "# Create function to convert ```tenure``` datas column into month datas"
      ]
    },
    {
      "cell_type": "code",
      "metadata": {
        "id": "LrNf-tpX3SFN"
      },
      "source": [
        "def getMonth(data):\n",
        "    data = data.replace('yrs', '').replace('mon', '').split()\n",
        "    return (int(data[0]) * 12) + int(data[1])\n",
        "\n",
        "df['tenure_months'] = df['tenure'].apply(lambda x : getMonth(x))"
      ],
      "execution_count": 985,
      "outputs": []
    },
    {
      "cell_type": "markdown",
      "metadata": {
        "id": "HFjYjtXBirVu"
      },
      "source": [
        "# Create function to convert ```customer_bod``` datas column into age datas"
      ]
    },
    {
      "cell_type": "code",
      "metadata": {
        "id": "7BghkvHI6Oo8"
      },
      "source": [
        "from datetime import date\n",
        "\n",
        "def getAge(bod):\n",
        "    today = date.today()\n",
        "    age = today.year - bod.year - ((today.month, today.day) < (bod.month, bod.day))\n",
        "    return age\n",
        "\n",
        "df['customer_bod'] = pd.to_datetime(df['customer_bod'])\n",
        "df['age'] = df['customer_bod'].apply(lambda x : getAge(date(x.year, x.month, x.day)))"
      ],
      "execution_count": 986,
      "outputs": []
    },
    {
      "cell_type": "markdown",
      "metadata": {
        "id": "oJnDw9Rui1AJ"
      },
      "source": [
        "# Check missing values"
      ]
    },
    {
      "cell_type": "code",
      "metadata": {
        "colab": {
          "base_uri": "https://localhost:8080/"
        },
        "id": "ex3zLuRr_UmI",
        "outputId": "3739b058-000a-4c77-d48f-7b2dab26f259"
      },
      "source": [
        "df.isnull().sum()"
      ],
      "execution_count": 987,
      "outputs": [
        {
          "output_type": "execute_result",
          "data": {
            "text/plain": [
              "customer_id        0\n",
              "customer_bod       0\n",
              "gender           308\n",
              "phone_flag         0\n",
              "student            0\n",
              "employment       992\n",
              "credit_card       11\n",
              "balance            0\n",
              "income             0\n",
              "tenure             0\n",
              "default            0\n",
              "tenure_months      0\n",
              "age                0\n",
              "dtype: int64"
            ]
          },
          "metadata": {},
          "execution_count": 987
        }
      ]
    },
    {
      "cell_type": "markdown",
      "metadata": {
        "id": "iVLruIJri4Qz"
      },
      "source": [
        "# Drop the missing row values"
      ]
    },
    {
      "cell_type": "code",
      "metadata": {
        "id": "3WldC6bA_hnL"
      },
      "source": [
        "df.dropna(subset = ['gender', 'credit_card', 'employment'], how = 'any', axis = 0, inplace = True)"
      ],
      "execution_count": 988,
      "outputs": []
    },
    {
      "cell_type": "markdown",
      "metadata": {
        "id": "RtELr0ekjDWR"
      },
      "source": [
        "# Make sure to zero missing values"
      ]
    },
    {
      "cell_type": "code",
      "metadata": {
        "colab": {
          "base_uri": "https://localhost:8080/"
        },
        "id": "lOKIjU94ATxi",
        "outputId": "a0b6fba3-1ef6-47b4-b320-e65357ab1fae"
      },
      "source": [
        "df.isnull().sum()"
      ],
      "execution_count": 989,
      "outputs": [
        {
          "output_type": "execute_result",
          "data": {
            "text/plain": [
              "customer_id      0\n",
              "customer_bod     0\n",
              "gender           0\n",
              "phone_flag       0\n",
              "student          0\n",
              "employment       0\n",
              "credit_card      0\n",
              "balance          0\n",
              "income           0\n",
              "tenure           0\n",
              "default          0\n",
              "tenure_months    0\n",
              "age              0\n",
              "dtype: int64"
            ]
          },
          "metadata": {},
          "execution_count": 989
        }
      ]
    },
    {
      "cell_type": "markdown",
      "metadata": {
        "id": "zbG66jKVjKxo"
      },
      "source": [
        "# Encoding the object features"
      ]
    },
    {
      "cell_type": "code",
      "metadata": {
        "id": "47QB2PqbGPQI"
      },
      "source": [
        "from sklearn.preprocessing import LabelEncoder\n",
        "\n",
        "LE = LabelEncoder()\n",
        "\n",
        "df['employment'] = LE.fit_transform(df['employment'])\n",
        "df['student'] = LE.fit_transform(df['student'])\n",
        "df['gender'] = LE.fit_transform(df['gender'])"
      ],
      "execution_count": 990,
      "outputs": []
    },
    {
      "cell_type": "markdown",
      "metadata": {
        "id": "bzusnK3IjSoP"
      },
      "source": [
        "# Drop unwanted features"
      ]
    },
    {
      "cell_type": "code",
      "metadata": {
        "id": "EwdvvkXOPfSN"
      },
      "source": [
        "df.drop(['customer_id', 'customer_bod', 'tenure'], axis = 1, inplace = True)"
      ],
      "execution_count": 991,
      "outputs": []
    },
    {
      "cell_type": "markdown",
      "metadata": {
        "id": "4Kj7NCBljwcf"
      },
      "source": [
        "# Make sure the data is ready"
      ]
    },
    {
      "cell_type": "code",
      "metadata": {
        "colab": {
          "base_uri": "https://localhost:8080/",
          "height": 204
        },
        "id": "uaz7Z6NiYtN_",
        "outputId": "45fbcdd3-5b82-4dfe-cc0a-4d72b69953a1"
      },
      "source": [
        "df.head()"
      ],
      "execution_count": 992,
      "outputs": [
        {
          "output_type": "execute_result",
          "data": {
            "text/html": [
              "<div>\n",
              "<style scoped>\n",
              "    .dataframe tbody tr th:only-of-type {\n",
              "        vertical-align: middle;\n",
              "    }\n",
              "\n",
              "    .dataframe tbody tr th {\n",
              "        vertical-align: top;\n",
              "    }\n",
              "\n",
              "    .dataframe thead th {\n",
              "        text-align: right;\n",
              "    }\n",
              "</style>\n",
              "<table border=\"1\" class=\"dataframe\">\n",
              "  <thead>\n",
              "    <tr style=\"text-align: right;\">\n",
              "      <th></th>\n",
              "      <th>gender</th>\n",
              "      <th>phone_flag</th>\n",
              "      <th>student</th>\n",
              "      <th>employment</th>\n",
              "      <th>credit_card</th>\n",
              "      <th>balance</th>\n",
              "      <th>income</th>\n",
              "      <th>default</th>\n",
              "      <th>tenure_months</th>\n",
              "      <th>age</th>\n",
              "    </tr>\n",
              "  </thead>\n",
              "  <tbody>\n",
              "    <tr>\n",
              "      <th>0</th>\n",
              "      <td>0</td>\n",
              "      <td>1.0</td>\n",
              "      <td>0</td>\n",
              "      <td>1</td>\n",
              "      <td>1.0</td>\n",
              "      <td>87104.12</td>\n",
              "      <td>5015120.75</td>\n",
              "      <td>0</td>\n",
              "      <td>52</td>\n",
              "      <td>28</td>\n",
              "    </tr>\n",
              "    <tr>\n",
              "      <th>4</th>\n",
              "      <td>1</td>\n",
              "      <td>1.0</td>\n",
              "      <td>0</td>\n",
              "      <td>0</td>\n",
              "      <td>0.0</td>\n",
              "      <td>48874.77</td>\n",
              "      <td>5445148.31</td>\n",
              "      <td>0</td>\n",
              "      <td>10</td>\n",
              "      <td>44</td>\n",
              "    </tr>\n",
              "    <tr>\n",
              "      <th>7</th>\n",
              "      <td>1</td>\n",
              "      <td>1.0</td>\n",
              "      <td>0</td>\n",
              "      <td>0</td>\n",
              "      <td>0.0</td>\n",
              "      <td>0.00</td>\n",
              "      <td>7112035.30</td>\n",
              "      <td>0</td>\n",
              "      <td>0</td>\n",
              "      <td>37</td>\n",
              "    </tr>\n",
              "    <tr>\n",
              "      <th>8</th>\n",
              "      <td>0</td>\n",
              "      <td>1.0</td>\n",
              "      <td>0</td>\n",
              "      <td>0</td>\n",
              "      <td>1.0</td>\n",
              "      <td>103848.03</td>\n",
              "      <td>6455858.31</td>\n",
              "      <td>0</td>\n",
              "      <td>30</td>\n",
              "      <td>22</td>\n",
              "    </tr>\n",
              "    <tr>\n",
              "      <th>9</th>\n",
              "      <td>0</td>\n",
              "      <td>1.0</td>\n",
              "      <td>0</td>\n",
              "      <td>0</td>\n",
              "      <td>0.0</td>\n",
              "      <td>0.00</td>\n",
              "      <td>3444624.30</td>\n",
              "      <td>0</td>\n",
              "      <td>0</td>\n",
              "      <td>40</td>\n",
              "    </tr>\n",
              "  </tbody>\n",
              "</table>\n",
              "</div>"
            ],
            "text/plain": [
              "   gender  phone_flag  student  ...  default  tenure_months  age\n",
              "0       0         1.0        0  ...        0             52   28\n",
              "4       1         1.0        0  ...        0             10   44\n",
              "7       1         1.0        0  ...        0              0   37\n",
              "8       0         1.0        0  ...        0             30   22\n",
              "9       0         1.0        0  ...        0              0   40\n",
              "\n",
              "[5 rows x 10 columns]"
            ]
          },
          "metadata": {},
          "execution_count": 992
        }
      ]
    },
    {
      "cell_type": "markdown",
      "metadata": {
        "id": "2Xwq05vqjz8O"
      },
      "source": [
        "# Split datas into train and test datas"
      ]
    },
    {
      "cell_type": "code",
      "metadata": {
        "id": "z1_AT9piFkLL"
      },
      "source": [
        "from sklearn.model_selection import train_test_split\n",
        "\n",
        "X = df.drop('default', axis = 1)\n",
        "Y = df['default']\n",
        "\n",
        "X_train, X_test, Y_train, Y_test = train_test_split(X, Y, random_state = 42, test_size = 0.2)"
      ],
      "execution_count": 993,
      "outputs": []
    },
    {
      "cell_type": "markdown",
      "metadata": {
        "id": "uJTPI2Tqj7nE"
      },
      "source": [
        "# Decision Tree Classifier"
      ]
    },
    {
      "cell_type": "code",
      "metadata": {
        "id": "Sw1yyS4FF46U"
      },
      "source": [
        "from sklearn.tree import DecisionTreeClassifier\n",
        "\n",
        "DTC = DecisionTreeClassifier(criterion = 'entropy')\n",
        "DTC.fit(X_train, Y_train)\n",
        "Y_pred_DTC = DTC.predict(X_test)"
      ],
      "execution_count": 994,
      "outputs": []
    },
    {
      "cell_type": "markdown",
      "metadata": {
        "id": "agVeVSFnj_PI"
      },
      "source": [
        "# Logistic Regression"
      ]
    },
    {
      "cell_type": "code",
      "metadata": {
        "id": "i6hvzd8PONW1"
      },
      "source": [
        "from sklearn.linear_model import LogisticRegression\n",
        "\n",
        "Log = LogisticRegression()\n",
        "Log.fit(X_train, Y_train)\n",
        "Y_pred_Log = Log.predict(X_test)"
      ],
      "execution_count": 995,
      "outputs": []
    },
    {
      "cell_type": "markdown",
      "metadata": {
        "id": "6sirQTufkDF7"
      },
      "source": [
        "# Naive Bayes"
      ]
    },
    {
      "cell_type": "code",
      "metadata": {
        "id": "U-uezjL1ZRZh"
      },
      "source": [
        "from sklearn.naive_bayes import GaussianNB\n",
        "\n",
        "GNB = GaussianNB()\n",
        "GNB.fit(X_train, Y_train)\n",
        "Y_pred_GNB = GNB.predict(X_test)"
      ],
      "execution_count": 996,
      "outputs": []
    },
    {
      "cell_type": "markdown",
      "metadata": {
        "id": "7B6zBwOLkFsp"
      },
      "source": [
        "# KNN"
      ]
    },
    {
      "cell_type": "code",
      "metadata": {
        "id": "lU9--5JjZnWm"
      },
      "source": [
        "from sklearn.neighbors import KNeighborsClassifier\n",
        "\n",
        "KNN = KNeighborsClassifier()\n",
        "KNN.fit(X_train, Y_train)\n",
        "Y_pred_KNN = KNN.predict(X_test)"
      ],
      "execution_count": 997,
      "outputs": []
    },
    {
      "cell_type": "markdown",
      "metadata": {
        "id": "ZEcWTv3XkM6y"
      },
      "source": [
        "# Evaluate using F1 Score"
      ]
    },
    {
      "cell_type": "code",
      "metadata": {
        "colab": {
          "base_uri": "https://localhost:8080/"
        },
        "id": "dZCL6ogBIlaz",
        "outputId": "bdedee33-44c3-401a-a2ef-30f6bfd3f49c"
      },
      "source": [
        "from sklearn.metrics import f1_score\n",
        "\n",
        "print('DTC :', f1_score(Y_test, Y_pred_DTC))\n",
        "print('Log :', f1_score(Y_test, Y_pred_Log))\n",
        "print('GNB :', f1_score(Y_test, Y_pred_GNB))\n",
        "print('KNN :', f1_score(Y_test, Y_pred_KNN))"
      ],
      "execution_count": 1017,
      "outputs": [
        {
          "output_type": "stream",
          "name": "stdout",
          "text": [
            "DTC : 0.6511627906976744\n",
            "Log : 0.38095238095238093\n",
            "GNB : 0.7000000000000001\n",
            "KNN : 0.45161290322580644\n"
          ]
        }
      ]
    },
    {
      "cell_type": "markdown",
      "metadata": {
        "id": "N_rl1Ov9lC0y"
      },
      "source": [
        "# Processing test datas"
      ]
    },
    {
      "cell_type": "code",
      "metadata": {
        "colab": {
          "base_uri": "https://localhost:8080/",
          "height": 204
        },
        "id": "sChNdWUDbSSa",
        "outputId": "26e30bec-097d-4a59-ad9a-a9f1067654e7"
      },
      "source": [
        "df_test = pd.read_csv('/content/test.csv')\n",
        "df_test.head()"
      ],
      "execution_count": 1009,
      "outputs": [
        {
          "output_type": "execute_result",
          "data": {
            "text/html": [
              "<div>\n",
              "<style scoped>\n",
              "    .dataframe tbody tr th:only-of-type {\n",
              "        vertical-align: middle;\n",
              "    }\n",
              "\n",
              "    .dataframe tbody tr th {\n",
              "        vertical-align: top;\n",
              "    }\n",
              "\n",
              "    .dataframe thead th {\n",
              "        text-align: right;\n",
              "    }\n",
              "</style>\n",
              "<table border=\"1\" class=\"dataframe\">\n",
              "  <thead>\n",
              "    <tr style=\"text-align: right;\">\n",
              "      <th></th>\n",
              "      <th>customer_id</th>\n",
              "      <th>customer_bod</th>\n",
              "      <th>gender</th>\n",
              "      <th>phone_flag</th>\n",
              "      <th>student</th>\n",
              "      <th>employment</th>\n",
              "      <th>credit_card</th>\n",
              "      <th>balance</th>\n",
              "      <th>income</th>\n",
              "      <th>tenure</th>\n",
              "    </tr>\n",
              "  </thead>\n",
              "  <tbody>\n",
              "    <tr>\n",
              "      <th>0</th>\n",
              "      <td>9365</td>\n",
              "      <td>1999-10-22</td>\n",
              "      <td>Male</td>\n",
              "      <td>0.0</td>\n",
              "      <td>No</td>\n",
              "      <td>Salaried</td>\n",
              "      <td>1.0</td>\n",
              "      <td>0.00</td>\n",
              "      <td>4430744.15</td>\n",
              "      <td>0yrs 0mon</td>\n",
              "    </tr>\n",
              "    <tr>\n",
              "      <th>1</th>\n",
              "      <td>999</td>\n",
              "      <td>1987-05-03</td>\n",
              "      <td>Female</td>\n",
              "      <td>0.0</td>\n",
              "      <td>No</td>\n",
              "      <td>Salaried</td>\n",
              "      <td>0.0</td>\n",
              "      <td>67431.40</td>\n",
              "      <td>3743149.53</td>\n",
              "      <td>0yrs 7mon</td>\n",
              "    </tr>\n",
              "    <tr>\n",
              "      <th>2</th>\n",
              "      <td>2835</td>\n",
              "      <td>2000-10-20</td>\n",
              "      <td>Male</td>\n",
              "      <td>1.0</td>\n",
              "      <td>No</td>\n",
              "      <td>Salaried</td>\n",
              "      <td>1.0</td>\n",
              "      <td>69128.28</td>\n",
              "      <td>4821579.61</td>\n",
              "      <td>1yrs 11mon</td>\n",
              "    </tr>\n",
              "    <tr>\n",
              "      <th>3</th>\n",
              "      <td>5821</td>\n",
              "      <td>1994-07-13</td>\n",
              "      <td>Male</td>\n",
              "      <td>1.0</td>\n",
              "      <td>No</td>\n",
              "      <td>Salaried</td>\n",
              "      <td>0.0</td>\n",
              "      <td>151051.78</td>\n",
              "      <td>3159764.69</td>\n",
              "      <td>0yrs 10mon</td>\n",
              "    </tr>\n",
              "    <tr>\n",
              "      <th>4</th>\n",
              "      <td>2330</td>\n",
              "      <td>1996-10-03</td>\n",
              "      <td>Male</td>\n",
              "      <td>0.0</td>\n",
              "      <td>No</td>\n",
              "      <td>Self Employed</td>\n",
              "      <td>0.0</td>\n",
              "      <td>92727.85</td>\n",
              "      <td>5659353.20</td>\n",
              "      <td>1yrs 3mon</td>\n",
              "    </tr>\n",
              "  </tbody>\n",
              "</table>\n",
              "</div>"
            ],
            "text/plain": [
              "   customer_id customer_bod  gender  ...    balance      income      tenure\n",
              "0         9365   1999-10-22    Male  ...       0.00  4430744.15   0yrs 0mon\n",
              "1          999   1987-05-03  Female  ...   67431.40  3743149.53   0yrs 7mon\n",
              "2         2835   2000-10-20    Male  ...   69128.28  4821579.61  1yrs 11mon\n",
              "3         5821   1994-07-13    Male  ...  151051.78  3159764.69  0yrs 10mon\n",
              "4         2330   1996-10-03    Male  ...   92727.85  5659353.20   1yrs 3mon\n",
              "\n",
              "[5 rows x 10 columns]"
            ]
          },
          "metadata": {},
          "execution_count": 1009
        }
      ]
    },
    {
      "cell_type": "code",
      "metadata": {
        "id": "oBw70u4Ndj3E"
      },
      "source": [
        "df_test['tenure_months'] = df_test['tenure'].apply(lambda x : getMonth(x))\n",
        "\n",
        "df_test['customer_bod'] = pd.to_datetime(df_test['customer_bod'])\n",
        "df_test['age'] = df_test['customer_bod'].apply(lambda x : getAge(x))"
      ],
      "execution_count": 1010,
      "outputs": []
    },
    {
      "cell_type": "code",
      "metadata": {
        "colab": {
          "base_uri": "https://localhost:8080/"
        },
        "id": "tLXKEXpce7UY",
        "outputId": "2ca37c28-78f7-4a37-ac8a-df8e34f2c17a"
      },
      "source": [
        "df_test.isnull().sum()"
      ],
      "execution_count": 1011,
      "outputs": [
        {
          "output_type": "execute_result",
          "data": {
            "text/plain": [
              "customer_id       0\n",
              "customer_bod      0\n",
              "gender           14\n",
              "phone_flag        0\n",
              "student           0\n",
              "employment       85\n",
              "credit_card       2\n",
              "balance           0\n",
              "income            0\n",
              "tenure            0\n",
              "tenure_months     0\n",
              "age               0\n",
              "dtype: int64"
            ]
          },
          "metadata": {},
          "execution_count": 1011
        }
      ]
    },
    {
      "cell_type": "code",
      "metadata": {
        "id": "RY8GDFg4fLl1"
      },
      "source": [
        "df_test.dropna(subset = ['gender', 'credit_card', 'employment'], how = 'any', axis = 0, inplace = True)"
      ],
      "execution_count": 1012,
      "outputs": []
    },
    {
      "cell_type": "code",
      "metadata": {
        "id": "3_3_pFbUfhYM"
      },
      "source": [
        "drop_col = ['customer_id', 'customer_bod', 'tenure']\n",
        "df_test.drop(drop_col, axis = 1, inplace = True)"
      ],
      "execution_count": 1013,
      "outputs": []
    },
    {
      "cell_type": "code",
      "metadata": {
        "id": "CTMfZJPKfymJ"
      },
      "source": [
        "df_test['employment'] = LE.fit_transform(df_test['employment'])\n",
        "df_test['student'] = LE.fit_transform(df_test['student'])\n",
        "df_test['gender'] = LE.fit_transform(df_test['gender'])"
      ],
      "execution_count": 1014,
      "outputs": []
    },
    {
      "cell_type": "code",
      "metadata": {
        "colab": {
          "base_uri": "https://localhost:8080/",
          "height": 204
        },
        "id": "3eJMdR5mfokZ",
        "outputId": "aa94b9b9-bdf1-4bd1-a2fe-a78425104d81"
      },
      "source": [
        "df_test.head()"
      ],
      "execution_count": 1015,
      "outputs": [
        {
          "output_type": "execute_result",
          "data": {
            "text/html": [
              "<div>\n",
              "<style scoped>\n",
              "    .dataframe tbody tr th:only-of-type {\n",
              "        vertical-align: middle;\n",
              "    }\n",
              "\n",
              "    .dataframe tbody tr th {\n",
              "        vertical-align: top;\n",
              "    }\n",
              "\n",
              "    .dataframe thead th {\n",
              "        text-align: right;\n",
              "    }\n",
              "</style>\n",
              "<table border=\"1\" class=\"dataframe\">\n",
              "  <thead>\n",
              "    <tr style=\"text-align: right;\">\n",
              "      <th></th>\n",
              "      <th>gender</th>\n",
              "      <th>phone_flag</th>\n",
              "      <th>student</th>\n",
              "      <th>employment</th>\n",
              "      <th>credit_card</th>\n",
              "      <th>balance</th>\n",
              "      <th>income</th>\n",
              "      <th>tenure_months</th>\n",
              "      <th>age</th>\n",
              "    </tr>\n",
              "  </thead>\n",
              "  <tbody>\n",
              "    <tr>\n",
              "      <th>0</th>\n",
              "      <td>1</td>\n",
              "      <td>0.0</td>\n",
              "      <td>0</td>\n",
              "      <td>0</td>\n",
              "      <td>1.0</td>\n",
              "      <td>0.00</td>\n",
              "      <td>4430744.15</td>\n",
              "      <td>0</td>\n",
              "      <td>21</td>\n",
              "    </tr>\n",
              "    <tr>\n",
              "      <th>1</th>\n",
              "      <td>0</td>\n",
              "      <td>0.0</td>\n",
              "      <td>0</td>\n",
              "      <td>0</td>\n",
              "      <td>0.0</td>\n",
              "      <td>67431.40</td>\n",
              "      <td>3743149.53</td>\n",
              "      <td>7</td>\n",
              "      <td>34</td>\n",
              "    </tr>\n",
              "    <tr>\n",
              "      <th>2</th>\n",
              "      <td>1</td>\n",
              "      <td>1.0</td>\n",
              "      <td>0</td>\n",
              "      <td>0</td>\n",
              "      <td>1.0</td>\n",
              "      <td>69128.28</td>\n",
              "      <td>4821579.61</td>\n",
              "      <td>23</td>\n",
              "      <td>20</td>\n",
              "    </tr>\n",
              "    <tr>\n",
              "      <th>3</th>\n",
              "      <td>1</td>\n",
              "      <td>1.0</td>\n",
              "      <td>0</td>\n",
              "      <td>0</td>\n",
              "      <td>0.0</td>\n",
              "      <td>151051.78</td>\n",
              "      <td>3159764.69</td>\n",
              "      <td>10</td>\n",
              "      <td>27</td>\n",
              "    </tr>\n",
              "    <tr>\n",
              "      <th>4</th>\n",
              "      <td>1</td>\n",
              "      <td>0.0</td>\n",
              "      <td>0</td>\n",
              "      <td>1</td>\n",
              "      <td>0.0</td>\n",
              "      <td>92727.85</td>\n",
              "      <td>5659353.20</td>\n",
              "      <td>15</td>\n",
              "      <td>25</td>\n",
              "    </tr>\n",
              "  </tbody>\n",
              "</table>\n",
              "</div>"
            ],
            "text/plain": [
              "   gender  phone_flag  student  ...      income  tenure_months  age\n",
              "0       1         0.0        0  ...  4430744.15              0   21\n",
              "1       0         0.0        0  ...  3743149.53              7   34\n",
              "2       1         1.0        0  ...  4821579.61             23   20\n",
              "3       1         1.0        0  ...  3159764.69             10   27\n",
              "4       1         0.0        0  ...  5659353.20             15   25\n",
              "\n",
              "[5 rows x 9 columns]"
            ]
          },
          "metadata": {},
          "execution_count": 1015
        }
      ]
    },
    {
      "cell_type": "markdown",
      "metadata": {
        "id": "g_AKd6OnlNm2"
      },
      "source": [
        "# Result"
      ]
    },
    {
      "cell_type": "code",
      "metadata": {
        "colab": {
          "base_uri": "https://localhost:8080/"
        },
        "id": "6KIBI6m1f8fO",
        "outputId": "361d1b6f-d0a2-4ca5-fbc4-ba4eced96483"
      },
      "source": [
        "GNB.predict(df_test)"
      ],
      "execution_count": 1016,
      "outputs": [
        {
          "output_type": "execute_result",
          "data": {
            "text/plain": [
              "array([0, 0, 0, 0, 0, 0, 0, 0, 0, 0, 0, 0, 0, 0, 0, 0, 1, 0, 0, 0, 0, 0,\n",
              "       0, 0, 0, 1, 0, 0, 0, 1, 0, 1, 0, 1, 1, 0, 1, 0, 0, 1, 0, 0, 0, 0,\n",
              "       0, 0, 0, 0, 0, 0, 0, 0, 0, 0, 0, 1, 0, 0, 0, 0, 0, 0, 0, 0, 0, 0,\n",
              "       0, 0, 0, 1, 0, 1, 0, 0, 1, 1, 0, 0, 0, 0, 0, 0, 0, 1, 0, 1, 0, 0,\n",
              "       0, 0, 1, 0, 0, 0, 0, 0, 0, 1, 0, 0, 0, 0, 0, 0, 1, 0, 0, 0, 0, 0,\n",
              "       1, 0, 0, 0, 1, 0, 0, 0, 0, 0, 0, 0, 0, 0, 0, 0, 0, 0, 0, 0, 0, 0,\n",
              "       1, 1, 0, 0, 0, 0, 0, 0, 0, 0, 0, 1, 0, 0, 0, 0, 0, 0, 0, 0, 0, 0,\n",
              "       0, 0, 0, 0, 0, 0, 0, 0, 0, 0, 0, 0, 0, 0, 0, 1, 0, 0, 0, 0, 1, 0,\n",
              "       0, 0, 0, 0, 0, 0, 0, 1, 0, 1, 0, 0, 0, 0, 0, 0, 0, 0, 1, 0, 0, 0,\n",
              "       0, 0, 0, 0, 0, 1, 0, 1, 0, 1, 0, 0, 1])"
            ]
          },
          "metadata": {},
          "execution_count": 1016
        }
      ]
    }
  ]
}
